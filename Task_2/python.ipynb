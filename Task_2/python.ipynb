{
 "cells": [
  {
   "cell_type": "code",
   "execution_count": 30,
   "metadata": {},
   "outputs": [],
   "source": [
    "import os\n",
    "\n",
    "import pandas as pd\n",
    "import Python as py"
   ]
  },
  {
   "cell_type": "code",
   "execution_count": 31,
   "metadata": {},
   "outputs": [
    {
     "name": "stdout",
     "output_type": "stream",
     "text": [
      "     LoanID  LoanAmount  ScheduledRepayment\n",
      "0         1     52000.0             2399.54\n",
      "1         2    115000.0             5306.67\n",
      "2         3     91000.0             4199.19\n",
      "3         4     77000.0             3553.16\n",
      "4         5     29000.0             1338.20\n",
      "..      ...         ...                 ...\n",
      "995     996     22000.0             1015.19\n",
      "996     997    111000.0             5122.09\n",
      "997     998     27000.0             1245.91\n",
      "998     999    115000.0             5306.67\n",
      "999    1000     60000.0             2768.70\n",
      "\n",
      "[1000 rows x 3 columns]\n",
      "-----------\n",
      "       RepaymentID  LoanID  Month  ActualRepayment\n",
      "0              1.0      86      1          2168.81\n",
      "1              2.0      17      1          2076.52\n",
      "2              3.0     131      1          2630.26\n",
      "3              4.0     345      1          2537.97\n",
      "4              5.0      44      1          5075.94\n",
      "...            ...     ...    ...              ...\n",
      "11995      11996.0     797     12          5214.38\n",
      "11996      11997.0     410     12          1015.19\n",
      "11997      11998.0     202     12             0.00\n",
      "11998      11999.0     607     12          3137.86\n",
      "11999      12000.0     210     12          1338.20\n",
      "\n",
      "[12000 rows x 4 columns]\n",
      "-----------\n",
      "       RepaymentID  LoanID  Month  ActualRepayment  LoanAmount  \\\n",
      "0            544.0       1      1          2399.54     52000.0   \n",
      "1           1313.0       1      2          2399.54     52000.0   \n",
      "2           2551.0       1      3          2399.54     52000.0   \n",
      "3           3636.0       1      4          2399.54     52000.0   \n",
      "4           4300.0       1      5          2399.54     52000.0   \n",
      "...            ...     ...    ...              ...         ...   \n",
      "11995       7973.0    1000      8          2768.70     60000.0   \n",
      "11996       8115.0    1000      9          2768.70     60000.0   \n",
      "11997       9867.0    1000     10          2768.70     60000.0   \n",
      "11998      10128.0    1000     11          2768.70     60000.0   \n",
      "11999      11719.0    1000     12          2768.70     60000.0   \n",
      "\n",
      "       ScheduledRepayment  LoanBalanceStart  LoanBalanceEnd  InterestPayment  \n",
      "0                 2399.54          52000.00        50033.79           433.33  \n",
      "1                 2399.54          50033.79        48051.20           416.95  \n",
      "2                 2399.54          48051.20        46052.09           400.43  \n",
      "3                 2399.54          46052.09        44036.32           383.77  \n",
      "4                 2399.54          44036.32        42003.74           366.97  \n",
      "...                   ...               ...             ...              ...  \n",
      "11995             2768.70          43716.52        41312.12           364.30  \n",
      "11996             2768.70          41312.12        38887.69           344.27  \n",
      "11997             2768.70          38887.69        36443.05           324.06  \n",
      "11998             2768.70          36443.05        33978.05           303.69  \n",
      "11999             2768.70          33978.05        31492.50           283.15  \n",
      "\n",
      "[12000 rows x 9 columns]\n",
      "-----------\n"
     ]
    },
    {
     "ename": "NameError",
     "evalue": "name 'default_rate_percent' is not defined",
     "output_type": "error",
     "traceback": [
      "\u001b[0;31m---------------------------------------------------------------------------\u001b[0m",
      "\u001b[0;31mNameError\u001b[0m                                 Traceback (most recent call last)",
      "Cell \u001b[0;32mIn[31], line 12\u001b[0m\n\u001b[1;32m      9\u001b[0m \u001b[38;5;28mprint\u001b[39m(df_balances)\n\u001b[1;32m     10\u001b[0m \u001b[38;5;28mprint\u001b[39m(\u001b[38;5;124m\"\u001b[39m\u001b[38;5;124m-----------\u001b[39m\u001b[38;5;124m\"\u001b[39m)\n\u001b[0;32m---> 12\u001b[0m question_1 \u001b[38;5;241m=\u001b[39m \u001b[43mpy\u001b[49m\u001b[38;5;241;43m.\u001b[39;49m\u001b[43mquestion_1\u001b[49m\u001b[43m(\u001b[49m\u001b[43mdf_balances\u001b[49m\u001b[43m)\u001b[49m\n",
      "File \u001b[0;32m/app/Task_2/Python.py:106\u001b[0m, in \u001b[0;36mquestion_1\u001b[0;34m(df_balances)\u001b[0m\n\u001b[1;32m     94\u001b[0m def question_1(df_balances):\n\u001b[1;32m     95\u001b[0m     \"\"\"\n\u001b[1;32m     96\u001b[0m     Calculate the percent of loans that defaulted as per the type 1 default definition.\n\u001b[1;32m     97\u001b[0m \n\u001b[0;32m   (...)\u001b[0m\n\u001b[1;32m    103\u001b[0m \n\u001b[1;32m    104\u001b[0m     \"\"\"\n\u001b[0;32m--> 106\u001b[0m     # Find all of the LoanIDs where actual repayment is lees than the scheduled repayment\n\u001b[1;32m    107\u001b[0m     defaulted_loans = df_balances.groupby(\"LoanID\").apply(\n\u001b[1;32m    108\u001b[0m         lambda group: (group[\"ActualRepayment\"] < group [\"ScheduledRepayment\"]).any()\n\u001b[1;32m    109\u001b[0m     )\n\u001b[1;32m    111\u001b[0m     # Find the defaulted and total number of loans\n\u001b[1;32m    112\u001b[0m     #num_defaulted = defaulted_loans.sum()\n\u001b[1;32m    113\u001b[0m     #total_loans = defaulted_loans.shape[0]\n\u001b[1;32m    114\u001b[0m \n\u001b[1;32m    115\u001b[0m     # Calculate the percentage\n\u001b[1;32m    116\u001b[0m     #default_rate_percent = (num_defaulted / total_loans) * 100\n",
      "\u001b[0;31mNameError\u001b[0m: name 'default_rate_percent' is not defined"
     ]
    }
   ],
   "source": [
    "root = os.getcwd()\n",
    "df_scheduled = pd.read_csv(root + \"/data/scheduled_loan_repayments.csv\")\n",
    "df_actual = pd.read_csv(root + \"/data/actual_loan_repayments.csv\")\n",
    "df_balances = py.calculate_df_balances(df_scheduled, df_actual)\n",
    "print(df_scheduled)\n",
    "print(\"-----------\")\n",
    "print(df_actual)\n",
    "print(\"-----------\")\n",
    "print(df_balances)\n",
    "print(\"-----------\")\n",
    "\n",
    "question_1 = py.question_1(df_balances)"
   ]
  },
  {
   "cell_type": "code",
   "execution_count": null,
   "metadata": {},
   "outputs": [],
   "source": []
  }
 ],
 "metadata": {
  "kernelspec": {
   "display_name": "Python 3 (ipykernel)",
   "language": "python",
   "name": "python3"
  },
  "language_info": {
   "codemirror_mode": {
    "name": "ipython",
    "version": 3
   },
   "file_extension": ".py",
   "mimetype": "text/x-python",
   "name": "python",
   "nbconvert_exporter": "python",
   "pygments_lexer": "ipython3",
   "version": "3.10.18"
  }
 },
 "nbformat": 4,
 "nbformat_minor": 4
}
