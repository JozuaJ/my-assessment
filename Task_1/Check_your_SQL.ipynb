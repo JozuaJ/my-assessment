{
 "cells": [
  {
   "cell_type": "code",
   "execution_count": 291,
   "metadata": {},
   "outputs": [],
   "source": [
    "import importlib\n",
    "import subprocess\n",
    "\n",
    "import Advanced_SQL as asql\n",
    "import duckdb\n",
    "import SQL as sql\n",
    "\n",
    "_ = importlib.reload(asql)\n",
    "_ = importlib.reload(sql)"
   ]
  },
  {
   "cell_type": "markdown",
   "metadata": {},
   "source": [
    "Use this cell to test any sql queries. This can be done in one of the following ways:\n",
    "\n",
    "1. Fill in the `qry` within the \"\"\" \"\"\".\n",
    "2. Call the question functions that you have already filled in from the SQL.py and Advanced_SQL.py files. An example of question_1 being called from the SQL.py file is currently commented out.\n",
    "\n",
    "This cell can be copied if you wish to run multiple queries.\n"
   ]
  },
  {
   "cell_type": "code",
   "execution_count": 292,
   "metadata": {},
   "outputs": [
    {
     "data": {
      "text/html": [
       "<div>\n",
       "<style scoped>\n",
       "    .dataframe tbody tr th:only-of-type {\n",
       "        vertical-align: middle;\n",
       "    }\n",
       "\n",
       "    .dataframe tbody tr th {\n",
       "        vertical-align: top;\n",
       "    }\n",
       "\n",
       "    .dataframe thead th {\n",
       "        text-align: right;\n",
       "    }\n",
       "</style>\n",
       "<table border=\"1\" class=\"dataframe\">\n",
       "  <thead>\n",
       "    <tr style=\"text-align: right;\">\n",
       "      <th></th>\n",
       "      <th>CustomerID</th>\n",
       "      <th>Age</th>\n",
       "      <th>CorrectedAge</th>\n",
       "      <th>Gender</th>\n",
       "      <th>AgeCategory</th>\n",
       "      <th>Rank</th>\n",
       "    </tr>\n",
       "  </thead>\n",
       "  <tbody>\n",
       "    <tr>\n",
       "      <th>0</th>\n",
       "      <td>1</td>\n",
       "      <td>24</td>\n",
       "      <td>52</td>\n",
       "      <td>Female</td>\n",
       "      <td>Adult</td>\n",
       "      <td>8</td>\n",
       "    </tr>\n",
       "    <tr>\n",
       "      <th>1</th>\n",
       "      <td>2</td>\n",
       "      <td>34</td>\n",
       "      <td>71</td>\n",
       "      <td>Female</td>\n",
       "      <td>Pensioner</td>\n",
       "      <td>8</td>\n",
       "    </tr>\n",
       "    <tr>\n",
       "      <th>2</th>\n",
       "      <td>3</td>\n",
       "      <td>48</td>\n",
       "      <td>24</td>\n",
       "      <td>Female</td>\n",
       "      <td>Young Adult</td>\n",
       "      <td>3</td>\n",
       "    </tr>\n",
       "    <tr>\n",
       "      <th>3</th>\n",
       "      <td>4</td>\n",
       "      <td>34</td>\n",
       "      <td>34</td>\n",
       "      <td>Female</td>\n",
       "      <td>Adult</td>\n",
       "      <td>8</td>\n",
       "    </tr>\n",
       "    <tr>\n",
       "      <th>4</th>\n",
       "      <td>5</td>\n",
       "      <td>67</td>\n",
       "      <td>48</td>\n",
       "      <td>Female</td>\n",
       "      <td>Adult</td>\n",
       "      <td>10</td>\n",
       "    </tr>\n",
       "    <tr>\n",
       "      <th>...</th>\n",
       "      <td>...</td>\n",
       "      <td>...</td>\n",
       "      <td>...</td>\n",
       "      <td>...</td>\n",
       "      <td>...</td>\n",
       "      <td>...</td>\n",
       "    </tr>\n",
       "    <tr>\n",
       "      <th>995</th>\n",
       "      <td>996</td>\n",
       "      <td>39</td>\n",
       "      <td>77</td>\n",
       "      <td>Female</td>\n",
       "      <td>Pensioner</td>\n",
       "      <td>8</td>\n",
       "    </tr>\n",
       "    <tr>\n",
       "      <th>996</th>\n",
       "      <td>997</td>\n",
       "      <td>65</td>\n",
       "      <td>41</td>\n",
       "      <td>Female</td>\n",
       "      <td>Adult</td>\n",
       "      <td>11</td>\n",
       "    </tr>\n",
       "    <tr>\n",
       "      <th>997</th>\n",
       "      <td>998</td>\n",
       "      <td>52</td>\n",
       "      <td>39</td>\n",
       "      <td>Female</td>\n",
       "      <td>Adult</td>\n",
       "      <td>10</td>\n",
       "    </tr>\n",
       "    <tr>\n",
       "      <th>998</th>\n",
       "      <td>999</td>\n",
       "      <td>71</td>\n",
       "      <td>65</td>\n",
       "      <td>Female</td>\n",
       "      <td>Pensioner</td>\n",
       "      <td>9</td>\n",
       "    </tr>\n",
       "    <tr>\n",
       "      <th>999</th>\n",
       "      <td>1000</td>\n",
       "      <td>51</td>\n",
       "      <td>44</td>\n",
       "      <td>Male</td>\n",
       "      <td>Adult</td>\n",
       "      <td>6</td>\n",
       "    </tr>\n",
       "  </tbody>\n",
       "</table>\n",
       "<p>1000 rows × 6 columns</p>\n",
       "</div>"
      ],
      "text/plain": [
       "     CustomerID  Age  CorrectedAge  Gender  AgeCategory  Rank\n",
       "0             1   24            52  Female        Adult     8\n",
       "1             2   34            71  Female    Pensioner     8\n",
       "2             3   48            24  Female  Young Adult     3\n",
       "3             4   34            34  Female        Adult     8\n",
       "4             5   67            48  Female        Adult    10\n",
       "..          ...  ...           ...     ...          ...   ...\n",
       "995         996   39            77  Female    Pensioner     8\n",
       "996         997   65            41  Female        Adult    11\n",
       "997         998   52            39  Female        Adult    10\n",
       "998         999   71            65  Female    Pensioner     9\n",
       "999        1000   51            44    Male        Adult     6\n",
       "\n",
       "[1000 rows x 6 columns]"
      ]
     },
     "execution_count": 292,
     "metadata": {},
     "output_type": "execute_result"
    }
   ],
   "source": [
    "qry = \"\"\"  \n",
    "\n",
    "\"\"\"\n",
    "\n",
    "qry = asql.question_7()\n",
    "\n",
    "\n",
    "with duckdb.connect(\"database/loan.db\") as cursor:\n",
    "    result_set = cursor.execute(qry).df()\n",
    "\n",
    "result_set"
   ]
  },
  {
   "cell_type": "markdown",
   "metadata": {},
   "source": [
    "Should you break/incorrectly update any database tables, the database can be reset by running the following cell\n"
   ]
  },
  {
   "cell_type": "code",
   "execution_count": 275,
   "metadata": {},
   "outputs": [
    {
     "data": {
      "text/plain": [
       "CompletedProcess(args=['python3', 'database/database_load.py'], returncode=0)"
      ]
     },
     "execution_count": 275,
     "metadata": {},
     "output_type": "execute_result"
    }
   ],
   "source": [
    "load_script_path = \"database/database_load.py\"\n",
    "subprocess.run([\"python3\", load_script_path])"
   ]
  },
  {
   "cell_type": "code",
   "execution_count": null,
   "metadata": {},
   "outputs": [],
   "source": []
  }
 ],
 "metadata": {
  "kernelspec": {
   "display_name": "Python 3 (ipykernel)",
   "language": "python",
   "name": "python3"
  },
  "language_info": {
   "codemirror_mode": {
    "name": "ipython",
    "version": 3
   },
   "file_extension": ".py",
   "mimetype": "text/x-python",
   "name": "python",
   "nbconvert_exporter": "python",
   "pygments_lexer": "ipython3",
   "version": "3.10.18"
  }
 },
 "nbformat": 4,
 "nbformat_minor": 4
}
